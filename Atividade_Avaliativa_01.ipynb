{
  "nbformat": 4,
  "nbformat_minor": 0,
  "metadata": {
    "colab": {
      "name": "Atividade Avaliativa 01.ipynb",
      "provenance": [],
      "authorship_tag": "ABX9TyMlhP+9UEh+WdLdawZQkOsq",
      "include_colab_link": true
    },
    "kernelspec": {
      "name": "python3",
      "display_name": "Python 3"
    }
  },
  "cells": [
    {
      "cell_type": "markdown",
      "metadata": {
        "id": "view-in-github",
        "colab_type": "text"
      },
      "source": [
        "<a href=\"https://colab.research.google.com/github/ginaldolaranjeiras/disciplina_programacao/blob/main/Atividade_Avaliativa_01.ipynb\" target=\"_parent\"><img src=\"https://colab.research.google.com/assets/colab-badge.svg\" alt=\"Open In Colab\"/></a>"
      ]
    },
    {
      "cell_type": "markdown",
      "metadata": {
        "id": "GwxHNQovPG28"
      },
      "source": [
        "Disciplina: Fundamentos de Programação\n",
        "\n",
        "\n",
        "Profª: Danielle Amaral Menéndez\n",
        "\n",
        "\n",
        "Prof.: Igor Oliveira Vasconcelos\n",
        "\n",
        "Aluno: Ginaldo Laranjeiras Junior\n",
        "\n"
      ]
    },
    {
      "cell_type": "markdown",
      "metadata": {
        "id": "fnivvCJ5P-aY"
      },
      "source": [
        "## **Atividade Avaliativa 01**\n"
      ]
    },
    {
      "cell_type": "markdown",
      "metadata": {
        "id": "o0PCcxQzWviO"
      },
      "source": [
        "**1 Defina os tipos de variáveis:**"
      ]
    },
    {
      "cell_type": "markdown",
      "metadata": {
        "id": "GJ26lG76RA-A"
      },
      "source": [
        "\n",
        "Nome de uma cidade;\n",
        "\n",
        "> str - String - Caractere\n",
        "\n",
        "Número de RG;\n",
        "\n",
        "> str - String - Caractere\n",
        "\n",
        "CEP;\n",
        "\n",
        "> str - String - Caractere\n",
        "\n",
        "Telefone;\n",
        "\n",
        "> str - String - Caractere\n",
        "\n",
        "Quantidade de produto em estoque;\n",
        "\n",
        "> int - Inteiro\n",
        "\n",
        "Saldo da poupança;\n",
        "\n",
        "> float - Número de ponto flutuante - Decimal\n",
        "\n",
        "Faltas em uma disciplina;\n",
        "\n",
        "> int - Inteiro\n",
        "\n",
        "Passou ou não passou em uma disciplina\n",
        "\n",
        "> bool - Boleano\n",
        "\n",
        "Estado Civil;\n",
        "\n",
        "> str - String - Caractere\n",
        "\n",
        "Chegou ou não chegou em um lugar\n",
        "\n",
        "> bool - Boleano"
      ]
    },
    {
      "cell_type": "code",
      "metadata": {
        "id": "4aXR2VczPKjj",
        "outputId": "4ee3ab22-895e-4f19-d160-82f64e770b76",
        "colab": {
          "base_uri": "https://localhost:8080/",
          "height": 34
        }
      },
      "source": [
        "nome_cidade = \"Propriá\"\n",
        "type(nome_cidade)"
      ],
      "execution_count": null,
      "outputs": [
        {
          "output_type": "execute_result",
          "data": {
            "text/plain": [
              "str"
            ]
          },
          "metadata": {
            "tags": []
          },
          "execution_count": 5
        }
      ]
    },
    {
      "cell_type": "code",
      "metadata": {
        "id": "7n2I0VOTSKuJ",
        "outputId": "01a73f9f-3fb2-4b4c-8f53-c95a343ff79d",
        "colab": {
          "base_uri": "https://localhost:8080/",
          "height": 34
        }
      },
      "source": [
        "numero_rg = \"000.000-0\"\n",
        "type(numero_rg)"
      ],
      "execution_count": null,
      "outputs": [
        {
          "output_type": "execute_result",
          "data": {
            "text/plain": [
              "str"
            ]
          },
          "metadata": {
            "tags": []
          },
          "execution_count": 6
        }
      ]
    },
    {
      "cell_type": "code",
      "metadata": {
        "id": "1Vwy6houSk1I",
        "outputId": "eef0e01b-55ca-420b-c137-f4a61fa9eb2e",
        "colab": {
          "base_uri": "https://localhost:8080/",
          "height": 34
        }
      },
      "source": [
        "cep = \"49900-000\"\n",
        "type(cep)"
      ],
      "execution_count": null,
      "outputs": [
        {
          "output_type": "execute_result",
          "data": {
            "text/plain": [
              "str"
            ]
          },
          "metadata": {
            "tags": []
          },
          "execution_count": 7
        }
      ]
    },
    {
      "cell_type": "code",
      "metadata": {
        "id": "EUcOXLw6Syll",
        "outputId": "f879d548-9926-4db6-f2ee-67dd772148b6",
        "colab": {
          "base_uri": "https://localhost:8080/",
          "height": 34
        }
      },
      "source": [
        "telefone = \"(79)99114-7935\"\n",
        "type(telefone)"
      ],
      "execution_count": null,
      "outputs": [
        {
          "output_type": "execute_result",
          "data": {
            "text/plain": [
              "str"
            ]
          },
          "metadata": {
            "tags": []
          },
          "execution_count": 8
        }
      ]
    },
    {
      "cell_type": "code",
      "metadata": {
        "id": "dBekID9NTA9_",
        "outputId": "cff2ad2a-1565-4e8c-a128-dad55a5ccc65",
        "colab": {
          "base_uri": "https://localhost:8080/",
          "height": 34
        }
      },
      "source": [
        "qtd_estoque = 1000\n",
        "type(qtd_estoque)"
      ],
      "execution_count": null,
      "outputs": [
        {
          "output_type": "execute_result",
          "data": {
            "text/plain": [
              "int"
            ]
          },
          "metadata": {
            "tags": []
          },
          "execution_count": 9
        }
      ]
    },
    {
      "cell_type": "code",
      "metadata": {
        "id": "5LufWxPuTfe5",
        "outputId": "6c19b8cf-ccf7-4e97-babb-5d8d34ec66b5",
        "colab": {
          "base_uri": "https://localhost:8080/",
          "height": 34
        }
      },
      "source": [
        "saldo_poupanca = 0.1\n",
        "type(saldo_poupanca)"
      ],
      "execution_count": null,
      "outputs": [
        {
          "output_type": "execute_result",
          "data": {
            "text/plain": [
              "float"
            ]
          },
          "metadata": {
            "tags": []
          },
          "execution_count": 10
        }
      ]
    },
    {
      "cell_type": "code",
      "metadata": {
        "id": "Cg95N2DNTsKQ",
        "outputId": "907f0840-45f8-411c-c749-da83203b44a0",
        "colab": {
          "base_uri": "https://localhost:8080/",
          "height": 34
        }
      },
      "source": [
        "faltas_disciplina = 0\n",
        "type(faltas_disciplina)"
      ],
      "execution_count": null,
      "outputs": [
        {
          "output_type": "execute_result",
          "data": {
            "text/plain": [
              "int"
            ]
          },
          "metadata": {
            "tags": []
          },
          "execution_count": 11
        }
      ]
    },
    {
      "cell_type": "code",
      "metadata": {
        "id": "Xb9Ejhr0T2oe",
        "outputId": "e63b5e91-e9a0-4649-bcf4-948d044d4f70",
        "colab": {
          "base_uri": "https://localhost:8080/",
          "height": 34
        }
      },
      "source": [
        "passou_na_disciplina = True\n",
        "type(passou_na_disciplina)"
      ],
      "execution_count": null,
      "outputs": [
        {
          "output_type": "execute_result",
          "data": {
            "text/plain": [
              "bool"
            ]
          },
          "metadata": {
            "tags": []
          },
          "execution_count": 12
        }
      ]
    },
    {
      "cell_type": "code",
      "metadata": {
        "id": "lWmftyCjT-V9",
        "outputId": "0b86cc80-a22d-4d45-bd1a-90cfb370c848",
        "colab": {
          "base_uri": "https://localhost:8080/",
          "height": 34
        }
      },
      "source": [
        "estado_civil = \"Solteiro\"\n",
        "type(estado_civil)"
      ],
      "execution_count": null,
      "outputs": [
        {
          "output_type": "execute_result",
          "data": {
            "text/plain": [
              "str"
            ]
          },
          "metadata": {
            "tags": []
          },
          "execution_count": 13
        }
      ]
    },
    {
      "cell_type": "code",
      "metadata": {
        "id": "Vf5wPeL2UKZ_",
        "outputId": "724a91eb-2b7d-4d4e-9989-82a089648265",
        "colab": {
          "base_uri": "https://localhost:8080/",
          "height": 34
        }
      },
      "source": [
        "chegou_no_lugar =  True\n",
        "type(chegou_no_lugar)"
      ],
      "execution_count": null,
      "outputs": [
        {
          "output_type": "execute_result",
          "data": {
            "text/plain": [
              "bool"
            ]
          },
          "metadata": {
            "tags": []
          },
          "execution_count": 14
        }
      ]
    },
    {
      "cell_type": "markdown",
      "metadata": {
        "id": "Xodnc6YYXVth"
      },
      "source": [
        " **2 Marque a opção que contém um identificador para uma variável inválido no\n",
        "Python**"
      ]
    },
    {
      "cell_type": "markdown",
      "metadata": {
        "id": "1cFBgqcmXqo2"
      },
      "source": [
        "a. nomeAluno (Variável válida mas em desacordo com a PEP 8)\n",
        "\n",
        "b. aluno05 (Variável válida)\n",
        "\n",
        "c. _matricula  (Variável válida)\n",
        "\n",
        "**d. %valor** (Variável invádida por conter caractere especial)\n",
        "\n",
        "e. alunoMatriculado (Variável válida MAS em desacordo com a PEP 8)"
      ]
    },
    {
      "cell_type": "code",
      "metadata": {
        "id": "E9pK10v7Xczs"
      },
      "source": [
        "nomeAluno = \"Ginaldo\""
      ],
      "execution_count": null,
      "outputs": []
    },
    {
      "cell_type": "code",
      "metadata": {
        "id": "HqkjnzvuYt0n"
      },
      "source": [
        "aluno05 = \"Ginaldo\""
      ],
      "execution_count": null,
      "outputs": []
    },
    {
      "cell_type": "code",
      "metadata": {
        "id": "Jb1hJ43NYxch"
      },
      "source": [
        "_matricula = \"20191010613\""
      ],
      "execution_count": null,
      "outputs": []
    },
    {
      "cell_type": "code",
      "metadata": {
        "id": "W_QxlWuoY9ws",
        "outputId": "09afd889-5b2b-4f57-cd6b-fbe003d0958b",
        "colab": {
          "base_uri": "https://localhost:8080/",
          "height": 54
        }
      },
      "source": [
        "%valor = 10.00"
      ],
      "execution_count": null,
      "outputs": [
        {
          "output_type": "stream",
          "text": [
            "UsageError: Line magic function `%valor` not found.\n"
          ],
          "name": "stderr"
        }
      ]
    },
    {
      "cell_type": "code",
      "metadata": {
        "id": "cQclZpOFZGjd"
      },
      "source": [
        "alunoMatriculado = True"
      ],
      "execution_count": null,
      "outputs": []
    },
    {
      "cell_type": "markdown",
      "metadata": {
        "id": "YT-LBVUYZWra"
      },
      "source": [
        "**3 Suponha que executamos as seguintes declaração por atribuição:**\n",
        "\n",
        "**largura = 17**\n",
        "**altura = 12.0**\n",
        "\n",
        "**Para cada uma das expressões a seguir, escreva o valor da expressão e o\n",
        "tipo (do valor da expressão).**"
      ]
    },
    {
      "cell_type": "code",
      "metadata": {
        "id": "VEtdMgmsZLnO"
      },
      "source": [
        "LARGURA = 17\n",
        " \n",
        "ALTURA = 12.0"
      ],
      "execution_count": null,
      "outputs": []
    },
    {
      "cell_type": "markdown",
      "metadata": {
        "id": "w4iyPLoWafah"
      },
      "source": [
        " 1. largura // 2\n",
        "\n",
        "> resultado = 8\n",
        "\n",
        "> tipo = int - inteiro\n"
      ]
    },
    {
      "cell_type": "code",
      "metadata": {
        "id": "OHY0LrIFZ0Kp"
      },
      "source": [
        "resultado = LARGURA // 2\n",
        " \n",
        "print(resultado)\n",
        "type(resultado)"
      ],
      "execution_count": null,
      "outputs": []
    },
    {
      "cell_type": "markdown",
      "metadata": {
        "id": "sBv8ke2ibFOk"
      },
      "source": [
        "2. largura / 2\n",
        "\n",
        "\n",
        "> resultado = 6.0\n",
        "\n",
        "> tipo = float - decimal"
      ]
    },
    {
      "cell_type": "code",
      "metadata": {
        "id": "KxQQwUkObBEt"
      },
      "source": [
        "resultado1 = ALTURA / 2\n",
        "\n",
        "print(resultado1)\n",
        "type(resultado1)"
      ],
      "execution_count": null,
      "outputs": []
    },
    {
      "cell_type": "markdown",
      "metadata": {
        "id": "hEB4c7PAcMLy"
      },
      "source": [
        "3. altura  / 3\n",
        "\n",
        "> resultado = 4.0\n",
        "\n",
        "> tipo = float - decimal"
      ]
    },
    {
      "cell_type": "code",
      "metadata": {
        "id": "p40Uu2MibXo8"
      },
      "source": [
        "resultado2 = ALTURA / 3\n",
        "\n",
        "print(resultado2)\n",
        "type(resultado2)"
      ],
      "execution_count": null,
      "outputs": []
    },
    {
      "cell_type": "markdown",
      "metadata": {
        "id": "62Au9lXlcv2u"
      },
      "source": [
        "4 . 1 + 2 * 5\n",
        "\n",
        "> resultado = 11\n",
        "\n",
        "> tipo = int - inteiro"
      ]
    },
    {
      "cell_type": "code",
      "metadata": {
        "id": "O68GBpsdcFyY"
      },
      "source": [
        "resultado3 = 1 + 2 * 5\n",
        "\n",
        "print(resultado3)\n",
        "type(resultado3)"
      ],
      "execution_count": null,
      "outputs": []
    },
    {
      "cell_type": "markdown",
      "metadata": {
        "id": "TaPiwys4c_4i"
      },
      "source": [
        "5. largura ** 2\n",
        "\n",
        "> resultado = 289\n",
        "\n",
        "> tipo = int = inteiro"
      ]
    },
    {
      "cell_type": "code",
      "metadata": {
        "id": "VtcLSBoCcmNF"
      },
      "source": [
        "resultado4 = LARGURA ** 2 \n",
        "\n",
        "print(resultado4)\n",
        "type(resultado4)"
      ],
      "execution_count": null,
      "outputs": []
    },
    {
      "cell_type": "markdown",
      "metadata": {
        "id": "APHFaKdUdzwg"
      },
      "source": [
        "6. largura += 3\n",
        "\n",
        "> resultado = 20\n",
        "\n",
        "> tipo = int - inteiro"
      ]
    },
    {
      "cell_type": "code",
      "metadata": {
        "id": "295YCXh2dYtU"
      },
      "source": [
        "\n",
        "largura = LARGURA\n",
        "\n",
        "largura+= 3\n",
        "\n",
        "print(largura)\n",
        "type(largura)"
      ],
      "execution_count": null,
      "outputs": []
    },
    {
      "cell_type": "markdown",
      "metadata": {
        "id": "TGMTb3Def_Sx"
      },
      "source": [
        "7. altura -= 0.5\n",
        "\n",
        "> resultado = 7.0\n",
        "\n",
        "> tipo = float - decimal"
      ]
    },
    {
      "cell_type": "code",
      "metadata": {
        "id": "yg3xR9jueALy"
      },
      "source": [
        "altura = ALTURA\n",
        "\n",
        "altura -= 5\n",
        "\n",
        "print(altura)\n",
        "type(altura)"
      ],
      "execution_count": null,
      "outputs": []
    },
    {
      "cell_type": "markdown",
      "metadata": {
        "id": "rfirNI9Mg07v"
      },
      "source": [
        "**4. Faça um algoritmo em Python para tirar a média de 4 números.**"
      ]
    },
    {
      "cell_type": "code",
      "metadata": {
        "id": "Yk9fLD13gU3V"
      },
      "source": [
        "def media_de_quatro():\n",
        "  a = float(input(\"Informe o 1º número: \"))\n",
        "  b = float(input(\"Informe o 2º número: \"))\n",
        "  c = float(input(\"Informe o 3º número: \"))\n",
        "  d = float(input(\"Informe o 4º número: \"))\n",
        "  return (a + b + c + d) / 4\n",
        " \n",
        "media = media_de_quatro()\n",
        " \n",
        "print(\"A média dos 4 números é: {}\".format(media))"
      ],
      "execution_count": null,
      "outputs": []
    },
    {
      "cell_type": "markdown",
      "metadata": {
        "id": "4y__hXXdjQbl"
      },
      "source": [
        "**5. Faça um algoritmo em Python para que leia dois números e imprima a soma,\n",
        "a subtração, a multiplicação e a divisão;**"
      ]
    },
    {
      "cell_type": "code",
      "metadata": {
        "id": "nZCMJWVEhek1"
      },
      "source": [
        "def calc():\n",
        "  a = float(input(\"Informe o primero número: \"))\n",
        "  b = float(input(\"Informe o segundo número: \"))\n",
        "  soma = a + b\n",
        "  subtracao = a - b\n",
        "  multiplicacao = a * b\n",
        "  divisao = a / b\n",
        "  return soma, subtracao, multiplicacao, divisao\n",
        "\n",
        "r_soma, r_subtracao, r_multiplicacao, r_divisao = calc()\n",
        "\n",
        "print(\"O resultado da soma dos números é: {}\".format(r_soma))\n",
        "print(\"O resultado da subtração dos números é: {}\".format(r_subtracao))\n",
        "print(\"O resultado da multiplicação dos números é: {}\".format(r_multiplicacao))\n",
        "print(\"O resultado da divisão dos números é: {}\".format(r_divisao))\n"
      ],
      "execution_count": null,
      "outputs": []
    },
    {
      "cell_type": "markdown",
      "metadata": {
        "id": "8Fp09cOXlvuj"
      },
      "source": [
        "**6. Faça um algoritmo em Python para converter um valor em R\\$ (real) para U\\$\n",
        "(dóllar);**"
      ]
    },
    {
      "cell_type": "code",
      "metadata": {
        "id": "4EcW3g-ikAKE"
      },
      "source": [
        "CORACAO_DOLAR = 5.60  # 08 de outubro de 2019, fechamento.\n",
        "\n",
        "def cotacao():\n",
        "  real = float(input(\"Informe o valor em real: R$ \"))\n",
        "\n",
        "  return real / CORACAO_DOLAR\n",
        "\n",
        "real_dolar = cotacao()\n",
        "\n",
        "print(\"O valor informado corresponde a: U$ {}\".format(real_dolar))"
      ],
      "execution_count": null,
      "outputs": []
    },
    {
      "cell_type": "markdown",
      "metadata": {
        "id": "fFCahFwNouYT"
      },
      "source": [
        "**7. Faça um algoritmo em Python para converter a temperatura de ºF(Fahrenheit)\n",
        "para ºC (célsius). Onde °C = (°F – 32) / 1,8;**"
      ]
    },
    {
      "cell_type": "code",
      "metadata": {
        "id": "6kEAKJ-4mWML"
      },
      "source": [
        "def converter_temperatura():\n",
        "  fahrenheit = float(input(\"Informe a temperatura em °F: \" ))\n",
        "  return (fahrenheit - 32) / 1.8\n",
        "\n",
        "celsius = converter_temperatura()\n",
        "\n",
        "print(\"A temperadura informada corresponde a {} °C\".format(celsius))"
      ],
      "execution_count": null,
      "outputs": []
    },
    {
      "cell_type": "markdown",
      "metadata": {
        "id": "gJOVozN4rAcP"
      },
      "source": [
        "**8. Tendo como dados de entrada a altura e o sexo de uma pessoa, construa um\n",
        "algoritmo para calcular seu peso ideal, utilizando as seguintes fórmulas:**\n",
        "\n",
        "**para homens: 72,7 * altura – 58;**\n",
        "\n",
        "**para mulheres:62,1 * altura – 44,7**"
      ]
    },
    {
      "cell_type": "code",
      "metadata": {
        "id": "ieFCuc_yqoc3"
      },
      "source": [
        "def calcula_peso():\n",
        "  sexo = input(\"Informe o sexo: (M - masculino ou F - feminino): \")\n",
        "  altura_pessoa = float(input(\"Informe a altura: \"))\n",
        "\n",
        "  if sexo == \"M\":\n",
        "    peso_ideal = 72.7 * altura_pessoa - 58\n",
        "  elif sexo ==\"F\":\n",
        "    peso_ideal = 62.1 * altura_pessoa - 44.7\n",
        "  else:\n",
        "    print(\"Entrada inválida. Informe (M ou F)\")\n",
        "  return peso_ideal\n",
        "\n",
        "try:\n",
        "  r = calcula_peso()\n",
        "  print(\"Seu peso ideal é: {}\".format(round(r, 2)))\n",
        "except:\n",
        "  print(\"Tente novamente.\")\n"
      ],
      "execution_count": null,
      "outputs": []
    },
    {
      "cell_type": "markdown",
      "metadata": {
        "id": "MSzbym1cusC0"
      },
      "source": [
        "**9. Joãozinho é um piscicultor em Propriá. Joãozinho precisa de um programa que\n",
        "receba como entrada o preço de custo do peixe, o valor do imposto a ser pago\n",
        "e o percentual de lucro. Portanto, faça um programa em Python que com base\n",
        "nos dados de entrada calcule o valor do peixe para Joãozinho.**"
      ]
    },
    {
      "cell_type": "code",
      "metadata": {
        "id": "78_hVmBFwgZx"
      },
      "source": [
        "def calculo_preco_venda():\n",
        "  custo = float(input(\"Informe o valor do custo do peixe: \"))\n",
        "  imposto = float(input(\"Informe o valor do imposto: \"))\n",
        "  percentual_lucro = float(input(\"Informe o percentual de lucro: \"))\n",
        "  return # fórmula\n",
        "\n",
        "preco_venda = calculo_preco_venda()\n",
        "\n",
        "print(\"O preço de venda corresponde a: {}\".format(preco_venda))"
      ],
      "execution_count": null,
      "outputs": []
    },
    {
      "cell_type": "markdown",
      "metadata": {
        "id": "L2gPFYpZybT7"
      },
      "source": [
        "**10. A padaria “Pão Bom” vende certa quantidade de pães franceses e uma\n",
        "quantidade de broas a cada dia. Cada pãozinho custa R\\$ 0,12 e a broa custa\n",
        "R\\$ 1,50. Ao final do dia, o dono quer saber quanto arrecadou com a venda dos\n",
        "pães e broas (juntos), e quanto&#39; deve guardar numa conta de poupança (10%\n",
        "do total arrecadado). Você foi contratado para fazer os cálculos para o dono.\n",
        "Com base nestes fatos, faça um algoritmo para ler as quantidades de pães e\n",
        "de broas, e depois calcular os dados solicitados.**"
      ]
    },
    {
      "cell_type": "code",
      "metadata": {
        "id": "wcx0QkpmtEUl"
      },
      "source": [
        "def cauculo_receita():\n",
        "  qtd_paozinho = float(input(\"Informe a quantidade de pãezinhos vendidos: \"))\n",
        "  total_paozinho = qtd_paozinho * 0.12\n",
        "  qtd_broa = float(input(\"Informe a quantidade de broas vendidas: \"))\n",
        "  total_broa = qtd_broa * 1.5\n",
        "  total_arrecadado = total_paozinho + total_broa\n",
        "  return total_arrecadado\n",
        " \n",
        "receitas_dia = cauculo_receita()\n",
        " \n",
        "deposito_poupanca = receitas_dia * 0.1\n",
        " \n",
        "print(\"O valor a ser depositado na poupança hoje é de R$ {}.\". format(deposito_poupanca))"
      ],
      "execution_count": null,
      "outputs": []
    }
  ]
}