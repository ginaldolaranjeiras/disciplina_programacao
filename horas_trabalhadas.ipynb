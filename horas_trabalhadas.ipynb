{
  "nbformat": 4,
  "nbformat_minor": 0,
  "metadata": {
    "colab": {
      "name": "horas_trabalhadas.ipynb",
      "provenance": [],
      "authorship_tag": "ABX9TyPxaTyHZ+ENtH96DAsbdjFZ",
      "include_colab_link": true
    },
    "kernelspec": {
      "name": "python3",
      "display_name": "Python 3"
    }
  },
  "cells": [
    {
      "cell_type": "markdown",
      "metadata": {
        "id": "view-in-github",
        "colab_type": "text"
      },
      "source": [
        "<a href=\"https://colab.research.google.com/github/ginaldolaranjeiras/disciplina_programacao/blob/main/horas_trabalhadas.ipynb\" target=\"_parent\"><img src=\"https://colab.research.google.com/assets/colab-badge.svg\" alt=\"Open In Colab\"/></a>"
      ]
    },
    {
      "cell_type": "markdown",
      "metadata": {
        "id": "ZKom06IbNFs3"
      },
      "source": [
        "### Faça um programa em Python que permita ler a quantidade de horas trabalhadas por um programador e o valor da hora cobrada pelo mesmo. Mostrar quanto o programador deve receber pelo trabalho."
      ]
    },
    {
      "cell_type": "code",
      "metadata": {
        "id": "iFLpbO0DRFgn"
      },
      "source": [
        "VALOR_HORA = 10.00"
      ],
      "execution_count": null,
      "outputs": []
    },
    {
      "cell_type": "markdown",
      "metadata": {
        "id": "ilrLkfsgQnNr"
      },
      "source": [
        "Solução 1 - Procedural"
      ]
    },
    {
      "cell_type": "code",
      "metadata": {
        "id": "SE2tQCJBOzO0"
      },
      "source": [
        "horas_trabalhadas = int(input(\"Informe a quantidade de horas trabalhadas: \"))\n",
        "vencimento = horas_trabalhadas * VALOR_HORA\n",
        "print(\"O valor do vencimento é: {}\".format(vencimento))\n"
      ],
      "execution_count": null,
      "outputs": []
    },
    {
      "cell_type": "markdown",
      "metadata": {
        "id": "m96yVRkjPw4S"
      },
      "source": [
        "Solução 2 - Função sem armazenar o resultado da saída\n"
      ]
    },
    {
      "cell_type": "code",
      "metadata": {
        "id": "O_xx4qXIK_cZ"
      },
      "source": [
        "def calculo_vencimento():\n",
        "  horas_trabalhadas1 = int(input(\"Informe a quantidade de horas trabalhadas: \"))\n",
        "  print(\"O valor do vencimento é: {}\".format(VALOR_HORA * horas_trabalhadas1))\n",
        "\n",
        "calculo_vencimento()\n"
      ],
      "execution_count": null,
      "outputs": []
    },
    {
      "cell_type": "markdown",
      "metadata": {
        "id": "F6Q8CRSBP7Nb"
      },
      "source": [
        "Solução 3 - Função armazenando o resultado da saída\n"
      ]
    },
    {
      "cell_type": "code",
      "metadata": {
        "id": "QjkqGFN3NQhQ"
      },
      "source": [
        "def calculo_vencimento1():\n",
        "  horas_trabalhadas2 = int(input(\"Informe a quantidade de horas trabalhadas: \"))\n",
        "  vencimento2 = horas_trabalhadas2 * VALOR_HORA2\n",
        "  return vencimento2\n",
        "\n",
        "#Valor do vencimento armazenado na variável resultado\n",
        "resultado = calculo_vencimento1()\n",
        "print(\"O valor do vencimento é: {}\".format(resultado))"
      ],
      "execution_count": null,
      "outputs": []
    }
  ]
}