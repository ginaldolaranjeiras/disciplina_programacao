{
  "nbformat": 4,
  "nbformat_minor": 0,
  "metadata": {
    "colab": {
      "name": "Atividade_avaliativa_02.ipynb",
      "provenance": [],
      "authorship_tag": "ABX9TyPuE0AgZSMhqoyHmNLnRDnP",
      "include_colab_link": true
    },
    "kernelspec": {
      "name": "python3",
      "display_name": "Python 3"
    }
  },
  "cells": [
    {
      "cell_type": "markdown",
      "metadata": {
        "id": "view-in-github",
        "colab_type": "text"
      },
      "source": [
        "<a href=\"https://colab.research.google.com/github/ginaldolaranjeiras/disciplina_programacao/blob/main/Atividade_avaliativa_02.ipynb\" target=\"_parent\"><img src=\"https://colab.research.google.com/assets/colab-badge.svg\" alt=\"Open In Colab\"/></a>"
      ]
    },
    {
      "cell_type": "markdown",
      "metadata": {
        "id": "zlVwqdl7CFVQ"
      },
      "source": [
        "# Disciplina: Fundamentos de Programação\n",
        "\n",
        "Profª: Danielle Amaral Menéndez\n",
        "\n",
        "Prof.: Igor Oliveira Vasconcelos\n",
        "\n",
        "Aluno: Ginaldo Laranjeiras Junior"
      ]
    },
    {
      "cell_type": "markdown",
      "metadata": {
        "id": "_yzt6UQqCV0p"
      },
      "source": [
        "# **Atividade Avaliativa 02**\n"
      ]
    },
    {
      "cell_type": "markdown",
      "metadata": {
        "id": "DYdoQmS9DYl6"
      },
      "source": [
        "1. Faça um algoritmo em Python para ler dois números inteiros e informar se estes números são iguais ou diferentes.algoritmo"
      ]
    },
    {
      "cell_type": "code",
      "metadata": {
        "id": "JdfiJpAmB9xY",
        "outputId": "d514fb9a-6209-4500-cf44-f264a7bf09f8",
        "colab": {
          "base_uri": "https://localhost:8080/",
          "height": 68
        }
      },
      "source": [
        "a = int(input(\"Informe o 1º número: \"))\n",
        "b = int(input(\"Informe o 2º número: \"))\n",
        "\n",
        "def verifica_igualdade(x, y):\n",
        "  if x == y:\n",
        "    print(\"Os números são iguais!\")\n",
        "  else:\n",
        "    print(\"Os números não são iguais! \")\n",
        "\n",
        "verifica_igualdade(a, b)"
      ],
      "execution_count": null,
      "outputs": [
        {
          "output_type": "stream",
          "text": [
            "Informe o 1º número: 9\n",
            "Informe o 2º número: 30\n",
            "Os números não são iguais! \n"
          ],
          "name": "stdout"
        }
      ]
    },
    {
      "cell_type": "markdown",
      "metadata": {
        "id": "U7-ytv4VEiRl"
      },
      "source": [
        "2. Faça um algoritmo em Python para ler um número inteiro e informar se o número é par ou ímpar."
      ]
    },
    {
      "cell_type": "code",
      "metadata": {
        "id": "np6S5EimERQH",
        "outputId": "102adeef-aced-49aa-fcf6-60545a84751d",
        "colab": {
          "base_uri": "https://localhost:8080/",
          "height": 51
        }
      },
      "source": [
        "num = int(input(\"Informe 1 número: \"))\n",
        "\n",
        "def verifica_paridade(x):\n",
        "  if num != 0:\n",
        "    if num % 2 == 0:\n",
        "      print(\"{} é um número par!\".format(num))\n",
        "    else:\n",
        "      print(\"{} é um número impar!\".format(num))\n",
        "  else:\n",
        "    print(\"O número informado é igual a zero\")\n",
        "\n",
        "verifica_paridade(num)"
      ],
      "execution_count": null,
      "outputs": [
        {
          "output_type": "stream",
          "text": [
            "Informe 1 número: 7\n",
            "7 é um número impar!\n"
          ],
          "name": "stdout"
        }
      ]
    },
    {
      "cell_type": "markdown",
      "metadata": {
        "id": "RluzC4glF6Vu"
      },
      "source": [
        "3. Faça um algoritmo em Python para ler duas variáveis inteiras A e B e garantir que A e B fiquem em ordem crescente, ou seja, a variável A deverá armazenar o menor valor fornecido e a variável B o maior. "
      ]
    },
    {
      "cell_type": "code",
      "metadata": {
        "id": "Cozy3M4mFsoT",
        "outputId": "9b168ac5-42a6-4853-9222-cd50948463bc",
        "colab": {
          "base_uri": "https://localhost:8080/",
          "height": 68
        }
      },
      "source": [
        "primeiro_numero = int(input(\"Informe o 1º número: \"))\n",
        "segundo_numero = int(input(\"Informe o 2º número: \"))\n",
        "\n",
        "def ordena_numeros(x, y):\n",
        "  if x > y:\n",
        "    aux = x\n",
        "    x = y\n",
        "    y = aux\n",
        "  return x, y  \n",
        "\n",
        "A, B = ordena_numeros(primeiro_numero, segundo_numero)\n",
        "\n",
        "print(\"O valor de A é {} e o valor de B é {}. \".format(A, B))\n",
        "\n"
      ],
      "execution_count": null,
      "outputs": [
        {
          "output_type": "stream",
          "text": [
            "Informe o 1º número: 4\n",
            "Informe o 2º número: 1\n",
            "O valor de A é 1 e o valor de B é 4. \n"
          ],
          "name": "stdout"
        }
      ]
    },
    {
      "cell_type": "markdown",
      "metadata": {
        "id": "SgS2OpS7LUuK"
      },
      "source": [
        "4. Faça um algoritmo em Python para ler três valores reais e informar se estes podem ou não formar os lados de um triângulo e qual tipo de triângulo seria: Equilátero, Isóscele ou Escaleno;\n"
      ]
    },
    {
      "cell_type": "code",
      "metadata": {
        "id": "gc8vL5lVHOMR",
        "outputId": "f6bbb260-b05d-4a8a-d293-f441da6fb62d",
        "colab": {
          "base_uri": "https://localhost:8080/",
          "height": 102
        }
      },
      "source": [
        "ab = float(input(\"Informe a medida do 1º lado: \"))\n",
        "bc = float(input(\"Informe a medida do 2º lado: \"))\n",
        "ca = float(input(\"Informe a medida do 3º lado: \"))\n",
        "\n",
        "def analise_triangulo(x, y, z):\n",
        "  if x > 0 and y > 0 and z > 0:\n",
        "    print(\"Legal! As medidas podem formar um triângulo.\")\n",
        "    if x == y and y == z:\n",
        "      print(\"Este triângulo é do tipo equilátero.\")\n",
        "    elif (x == y or x == z) or (y == x or y == z) or (z == x or z == y):\n",
        "      print(\"Este triângulo é do tipo isósceles.\")\n",
        "    else:\n",
        "      print(\"Este triângulo é do tipo escaleno.\")\n",
        "  else:\n",
        "    print(\"Hum... As medidas não podem formar um triângulo\")\n",
        "  \n",
        "analise_triangulo(ab, bc, ca)"
      ],
      "execution_count": null,
      "outputs": [
        {
          "output_type": "stream",
          "text": [
            "Informe a medida do 1º lado: 6\n",
            "Informe a medida do 2º lado: 2\n",
            "Informe a medida do 3º lado: 6\n",
            "Legal! As medidas podem formar um triângulo.\n",
            "Este triângulo é do tipo isósceles.\n"
          ],
          "name": "stdout"
        }
      ]
    },
    {
      "cell_type": "markdown",
      "metadata": {
        "id": "COi0emsVSAjv"
      },
      "source": [
        "5. A Secretaria de Meio Ambiente, que controla o índice de poluição, mantém 3 grupos de indústrias que são altamente poluentes do meio ambiente. \n",
        "\n",
        "> O índice de poluição aceitável varia de 0,05 até 0,29.\n",
        "\n",
        "> Se o índice sobe para 0,3 as indústrias do 1º grupo são intimadas a suspenderem suas atividades.\n",
        "\n",
        "> Se o índice crescer para 0,4 as indústrias do 1º e 2º grupo são intimadas a suspenderem suas atividades.\n",
        "\n",
        "> Se o índice atingir 0,5 todos os grupos devem ser notificados a paralisarem suas atividades. \n",
        "\n",
        "Faça um programa que leia o índice de poluição e imprima quais serão os grupos industriais  intimados."
      ]
    },
    {
      "cell_type": "code",
      "metadata": {
        "id": "NYjjei1wQVZc",
        "outputId": "9f480a63-9158-465e-b5de-8896988123e6",
        "colab": {
          "base_uri": "https://localhost:8080/",
          "height": 51
        }
      },
      "source": [
        "class Alerta_Poluicao:\n",
        "  def __init__(self, indice):\n",
        "    self.indice = indice    \n",
        "  def aleta_industrias(indice):\n",
        "    if indice >= 0.5:\n",
        "      print(\"Todas as indústrias devem paralizar as atividades !!!\")\n",
        "    elif indice < 0.5 and indice >= 0.4:\n",
        "      print(\"As indústrias do 1º grupo e do 2º grupo devem paralizar as atividades!!\")\n",
        "    elif indice < 0.4 and indice >= 0.3:\n",
        "      print(\"As indústrias do 1º grupo devem paralizar as atividades!\")\n",
        "    elif indice < 0.3 and indice >= 0.05:\n",
        "      print(\"O índice de puluição é aceitável.\")\n",
        "    else:\n",
        "      print(\"Índice de poluição despresível.\")\n",
        "\n",
        "\n",
        "medicao = float(input(\"Informe o índice de poluição medido: \"))\n",
        "\n",
        "alerta = Alerta_Poluicao.aleta_industrias(medicao)\n"
      ],
      "execution_count": null,
      "outputs": [
        {
          "output_type": "stream",
          "text": [
            "Informe o índice de poluição medido: 0.2\n",
            "O índice de puluição é aceitável.\n"
          ],
          "name": "stdout"
        }
      ]
    },
    {
      "cell_type": "markdown",
      "metadata": {
        "id": "UP_zr2A3Yx4T"
      },
      "source": [
        "6. Joãozinho, um piscicultor, deseja aumentar sua produção e para isso precisa recorrer a um empréstimo. Um Banco concederá crédito aos seus clientes de acordo com a produção do ano anterior. Faça um algoritmo que leia o valor da produção e calcule e imprima o valor do crédito de acordo com a tabela abaixo. "
      ]
    },
    {
      "cell_type": "markdown",
      "metadata": {
        "id": "sYNS5plyY6Dh"
      },
      "source": [
        "\n",
        ">**Produção | Valor do crédito**\n",
        "\n",
        "Até R\\$ 120.000,00 | 25%\n",
        "\n",
        "de R\\$ 120.000,01 até R\\$ 500.000,00 | 30%\n",
        "\n",
        "A partir de R\\$ 500.000,01 | 45%\n",
        "\n"
      ]
    },
    {
      "cell_type": "code",
      "metadata": {
        "id": "kRN8GUdZWEix",
        "outputId": "b6fcacb5-af76-465a-e887-58e8a57b1e8a",
        "colab": {
          "base_uri": "https://localhost:8080/",
          "height": 51
        }
      },
      "source": [
        "class Credito:\n",
        "  def __init__(self, receita_ano_anterior):\n",
        "    self.receita_ano_anterior = receita_ano_anterior\n",
        "  def calculo_credito(receita_ano_anterior):\n",
        "    if receita_ano_anterior > 500_000:\n",
        "      credito = receita_ano_anterior * 0.45\n",
        "      print(\"O valor do crédito do cliente é de R$ {}.\".format(round(credito, 2)))\n",
        "    elif receita_ano_anterior <= 500_000 and receita_ano_anterior > 120_000:\n",
        "      credito = receita_ano_anterior * 0.30\n",
        "      print(\"O valor do crédito do cliente é de R$ {}.\".format(round(credito, 2)))\n",
        "    elif receita_ano_anterior <= 120_000:\n",
        "      credito = receita_ano_anterior * 0.25\n",
        "      print(\"O valor do crédito do cliente é de R$ {}.\".format(round(credito, 2)))\n",
        "  \n",
        "producao = float(input(\"Informe o valor da produção do ano anterior: \"))\n",
        "\n",
        "analise = Credito.calculo_credito(producao)\n"
      ],
      "execution_count": null,
      "outputs": [
        {
          "output_type": "stream",
          "text": [
            "Informe o valor da produção do ano anterior: 1000000\n",
            "O valor do crédito do cliente é de R$ 450000.0.\n"
          ],
          "name": "stdout"
        }
      ]
    },
    {
      "cell_type": "code",
      "metadata": {
        "id": "ezZFis-qdC7q"
      },
      "source": [
        ""
      ],
      "execution_count": null,
      "outputs": []
    }
  ]
}